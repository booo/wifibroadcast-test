{
 "metadata": {
  "language_info": {
   "codemirror_mode": {
    "name": "ipython",
    "version": 3
   },
   "file_extension": ".py",
   "mimetype": "text/x-python",
   "name": "python",
   "nbconvert_exporter": "python",
   "pygments_lexer": "ipython3",
   "version": "3.8.6-final"
  },
  "orig_nbformat": 2,
  "kernelspec": {
   "name": "Python 3.8.6 64-bit",
   "display_name": "Python 3.8.6 64-bit",
   "metadata": {
    "interpreter": {
     "hash": "767d51c1340bd893661ea55ea3124f6de3c7a262a8b4abca0554b478b1e2ff90"
    }
   }
  }
 },
 "nbformat": 4,
 "nbformat_minor": 2,
 "cells": [
  {
   "cell_type": "code",
   "execution_count": 68,
   "metadata": {},
   "outputs": [],
   "source": [
    "import numpy as np\n",
    "import matplotlib.pyplot as plt\n",
    "import pandas as pd\n",
    "from glob import glob\n",
    "import os\n",
    "import re"
   ]
  },
  {
   "cell_type": "code",
   "execution_count": 70,
   "metadata": {},
   "outputs": [],
   "source": [
    "def getTestIdFromFilename(filename):\n",
    "    return  int(re.findall(r'\\d+', filename)[0])\n"
   ]
  },
  {
   "cell_type": "code",
   "execution_count": 145,
   "metadata": {},
   "outputs": [],
   "source": [
    "worktime = 4 #[sek]\n",
    "\n",
    "df_tests = pd.read_csv(\"/home/julle/projects/SearchWing/Tests/20201119_WifiTestSetup/wifibroadcast-test/testids.csv\")\n",
    "df_tests['testid'] = pd.to_numeric(df_tests['testid'])\n",
    "df_testsJoined = df_tests.copy()"
   ]
  },
  {
   "cell_type": "code",
   "execution_count": 156,
   "metadata": {},
   "outputs": [
    {
     "output_type": "stream",
     "name": "stdout",
     "text": [
      "wifi_adapter_cnt       int64\nreceived_block_cnt     int64\ndamaged_block_cnt      int64\nfecs_used_cnt          int64\ntx_restart_cnt         int64\nadapterIdx             int64\ncurrent_signal_dbm     int64\nreceived_packet_cnt    int64\nwrong_crc_cnt          int64\nlost_packets_cnt       int64\ntestid                 int64\ndtype: object\n"
     ]
    }
   ],
   "source": [
    "df_testsJoined = df_tests.copy()\n",
    "\n",
    "csvs_ByTestId = {}\n",
    "path=\"/home/julle/projects/SearchWing/Tests/20201119_WifiTestSetup/wfb-test-results/InHousePhil20201120\"\n",
    "csvs = glob(os.path.join(path,\"*.csv\"))\n",
    "maxValuesAll = []\n",
    "for oneCsv in csvs:\n",
    "    df_debug = pd.read_csv(oneCsv)     \n",
    "    df_debug = df_debug.drop([0]) #delete first line due to error\n",
    "\n",
    "    filename = os.path.basename(oneNettoDataFile)\n",
    "    testId = getTestIdFromFilename(filename)\n",
    "    \n",
    "    df_maxValues = pd.DataFrame(df_debug.max()).transpose()\n",
    "    df_maxValues = df_maxValues.drop('stamp', 1)\n",
    "    df_maxValues = df_maxValues.astype(np.int64) \n",
    "    df_maxValues['testid'] = (testId)\n",
    "\n",
    "    print(df_maxValues.dtypes)\n",
    "    maxValuesAll.append(df_maxValues)\n",
    "    #df_testsJoined\n",
    "    df_testsJoined = pd.concat([df_testsJoined, df_maxValues], axis=1, sort=False,  join='outer')\n",
    "    break\n",
    "\n",
    "\n",
    "#print(df_testsJoined.dtypes)\n",
    "#pd.DataFrame(maxValuesAll)"
   ]
  },
  {
   "cell_type": "code",
   "execution_count": 132,
   "metadata": {},
   "outputs": [
    {
     "output_type": "execute_result",
     "data": {
      "text/plain": [
       "{}"
      ]
     },
     "metadata": {},
     "execution_count": 132
    }
   ],
   "source": []
  },
  {
   "cell_type": "code",
   "execution_count": null,
   "metadata": {},
   "outputs": [],
   "source": [
    "nettoDataFiles = glob(os.path.join(path,\"*.data\"))\n",
    "testIds = []\n",
    "sizesBits = []\n",
    "for oneNettoDataFile in nettoDataFiles:\n",
    "    filename = os.path.basename(oneNettoDataFile)\n",
    "    testIds.append(getTestIdFromFilename(filename))\n",
    "    sizesBits.append(os.path.getsize(oneNettoDataFile))\n",
    "df_nettoDataSize = pd.DataFrame(data={'testid':testIds, 'nettoDataSize' : sizesBits})"
   ]
  }
 ]
}